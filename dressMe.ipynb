{
 "cells": [
  {
   "cell_type": "code",
   "execution_count": 10,
   "metadata": {
    "scrolled": true
   },
   "outputs": [
    {
     "data": {
      "image/jpeg": "[encoded data removed]",
      "text/plain": [
       "<IPython.core.display.Image object>"
      ]
     },
     "execution_count": 10,
     "metadata": {},
     "output_type": "execute_result"
    }
   ],
   "source": [
    "from IPython.display import Image\n",
    "Image(filename='salwar1.jpg')"
   ]
  },
  {
   "cell_type": "code",
   "execution_count": null,
   "metadata": {},
   "outputs": [
    {
     "name": "stdout",
     "output_type": "stream",
     "text": [
      "('Image Dimension    : ', (263L, 191L, 3L))\n",
      "('Image Height       : ', 263L)\n",
      "('Image Width        : ', 191L)\n",
      "('Number of Channels : ', 3L)\n",
      "('Image Dimension    : ', (225L, 225L, 3L))\n",
      "('Image Height       : ', 225L)\n",
      "('Image Width        : ', 225L)\n",
      "('Number of Channels : ', 3L)\n"
     ]
    }
   ],
   "source": [
    "# Python program for adding\n",
    "# images using OpenCV\n",
    " \n",
    "# import OpenCV file\n",
    "import cv2\n",
    " \n",
    "# Read Image1\n",
    "img = cv2.imread('salwar1.jpg', 1)\n",
    "img2 = cv2.imread('w1.jpg', 1)\n",
    "\n",
    "\n",
    "\n",
    "dimensions = img.shape\n",
    "dimensions2 = img2.shape\n",
    " \n",
    "# height, width, number of channels in image\n",
    "height = img.shape[0]\n",
    "width = img.shape[1]\n",
    "channels = img.shape[2]\n",
    " \n",
    "height1 = img2.shape[0]\n",
    "width1 = img2.shape[1]\n",
    "channels1 = img2.shape[2]\n",
    " \n",
    "print('Image Dimension    : ',dimensions)\n",
    "print('Image Height       : ',height)\n",
    "print('Image Width        : ',width)\n",
    "print('Number of Channels : ',channels)\n",
    "\n",
    "print('Image Dimension    : ',dimensions2)\n",
    "print('Image Height       : ',height1)\n",
    "print('Image Width        : ',width1)\n",
    "print('Number of Channels : ',channels1)\n",
    " \n",
    "# Wait for a key\n",
    "cv2.waitKey(0)\n",
    " \n",
    "# Distroy all the window open\n",
    "cv2.distroyAllWindows()"
   ]
  },
  {
   "cell_type": "code",
   "execution_count": null,
   "metadata": {},
   "outputs": [
    {
     "name": "stdout",
     "output_type": "stream",
     "text": [
      "('Image Dimension    : ', (225L, 225L, 3L))\n",
      "('Image Height       : ', 225L)\n",
      "('Image Width        : ', 225L)\n",
      "('Number of Channels : ', 3L)\n"
     ]
    }
   ],
   "source": [
    "import cv2\n",
    " \n",
    "img = cv2.imread('/home/img/python.png', cv2.IMREAD_UNCHANGED)\n",
    " \n",
    "print('Original Dimensions : ',img.shape)\n",
    " \n",
    "scale_percent = 60 # percent of original size\n",
    "width = int(img.shape[1] * scale_percent / 100)\n",
    "height = int(img.shape[0] * scale_percent / 100)\n",
    "dim = (width, height)\n",
    " \n",
    "# resize image\n",
    "resized = cv2.resize(img, dim, interpolation = cv2.INTER_AREA)\n",
    " \n",
    "print('Resized Dimensions : ',resized.shape)\n",
    " \n",
    "cv2.imshow(\"Resized image\", resized)\n",
    "cv2.waitKey(0)\n",
    "cv2.destroyAllWindows()"
   ]
  },
  {
   "cell_type": "code",
   "execution_count": 1,
   "metadata": {
    "scrolled": true
   },
   "outputs": [
    {
     "name": "stdout",
     "output_type": "stream",
     "text": [
      "(225, 225)\n",
      "(200, 200)\n",
      "(191, 263)\n",
      "(200, 200)\n"
     ]
    }
   ],
   "source": [
    "from PIL import Image\n",
    "\n",
    "image1 = Image.open('w1.jpg')\n",
    "#image.show()\n",
    "#print(image.format)\n",
    "#print(image.mode)\n",
    "#print(image.size)\n",
    "new_image1 = image1.resize((200, 200))\n",
    "new_image1.save('image1_400.jpg')\n",
    "\n",
    "print(image1.size) # Output: (1200, 776)\n",
    "print(new_image1.size)\n",
    "#new_image1.show();\n",
    "image2 = Image.open('salwar1.jpg')\n",
    "new_image2 = image2.resize((200, 200))\n",
    "new_image2.save('image2_400.jpg')\n",
    "\n",
    "print(image2.size) # Output: (1200, 776)\n",
    "print(new_image2.size)\n",
    "#new_image2.show();\n",
    "#image = Image.blend(new_image1 , new_image2 , 1.0)\n",
    "#image.show()\n",
    "box = (85, 0, 120,70)\n",
    "region = new_image1.crop(box)\n",
    "#region = region.transpose(Image.ROTATE_180)\n",
    "\n",
    "new_image2 = image2.resize((400, 400))\n",
    "new_image2.paste(region, box)\n",
    "new_image2.show();"
   ]
  },
  {
   "cell_type": "code",
   "execution_count": null,
   "metadata": {},
   "outputs": [
    {
     "name": "stdout",
     "output_type": "stream",
     "text": [
      "(72, 16, 26, 26)\n"
     ]
    }
   ],
   "source": [
    "import numpy as np\n",
    "import cv2\n",
    "\n",
    "face_cascade = cv2.CascadeClassifier('C:\\Users\\Uponika\\Downloads\\opencv\\sources\\data\\haarcascades\\haarcascade_frontalface_default.xml')\n",
    "#eye_cascade = cv2.CascadeClassifier('C:\\Users\\Uponika\\Downloads\\opencv\\sources\\data\\haarcascade\\shaarcascade_eye.xml')\n",
    "\n",
    "img = cv2.imread('salwar1.jpg')\n",
    "gray = cv2.cvtColor(img, cv2.COLOR_BGR2GRAY)\n",
    "faces = face_cascade.detectMultiScale(gray, 1.3, 5)\n",
    "for (x,y,w,h) in faces:\n",
    "    img = cv2.rectangle(img,(x,y),(x+w,y+h),(255,0,0),2)\n",
    "    print(x,y,w,h)\n",
    "    #roi_gray = gray[y:y+h, x:x+w]\n",
    "    #roi_color = img[y:y+h, x:x+w]\n",
    "    #eyes = eye_cascade.detectMultiScale(roi_gray)\n",
    "    #for (ex,ey,ew,eh) in eyes:\n",
    "     #   cv2.rectangle(roi_color,(ex,ey),(ex+ew,ey+eh),(0,255,0),2)\n",
    "\n",
    "cv2.imshow('img',img)\n",
    "cv2.waitKey(0)\n",
    "cv2.destroyAllWindows()"
   ]
  },
  {
   "cell_type": "code",
   "execution_count": null,
   "metadata": {},
   "outputs": [
    {
     "name": "stdout",
     "output_type": "stream",
     "text": [
      "(281, 76, 150, 150)\n"
     ]
    }
   ],
   "source": [
    "import numpy as np\n",
    "import cv2\n",
    "\n",
    "face_cascade = cv2.CascadeClassifier('C:\\Users\\Uponika\\Downloads\\opencv\\sources\\data\\haarcascades\\haarcascade_frontalface_default.xml')\n",
    "#eye_cascade = cv2.CascadeClassifier('C:\\Users\\Uponika\\Downloads\\opencv\\sources\\data\\haarcascade\\shaarcascade_eye.xml')\n",
    "\n",
    "img = cv2.imread('me.jpg')\n",
    "gray = cv2.cvtColor(img, cv2.COLOR_BGR2GRAY)\n",
    "faces = face_cascade.detectMultiScale(gray, 1.3, 5)\n",
    "for (x,y,w,h) in faces:\n",
    "    img = cv2.rectangle(img,(x,y),(x+w,y+h),(255,0,0),2)\n",
    "    print(x,y,w,h)\n",
    "    #roi_gray = gray[y:y+h, x:x+w]\n",
    "    #roi_color = img[y:y+h, x:x+w]\n",
    "    #eyes = eye_cascade.detectMultiScale(roi_gray)\n",
    "    #for (ex,ey,ew,eh) in eyes:\n",
    "     #   cv2.rectangle(roi_color,(ex,ey),(ex+ew,ey+eh),(0,255,0),2)\n",
    "\n",
    "cv2.imshow('img',img)\n",
    "cv2.waitKey(0)\n",
    "cv2.destroyAllWindows()"
   ]
  },
  {
   "cell_type": "code",
   "execution_count": null,
   "metadata": {},
   "outputs": [
    {
     "name": "stdout",
     "output_type": "stream",
     "text": [
      "(207, 340, 61, 61)\n",
      "(393, 166, 197, 197)\n",
      "11163\n"
     ]
    }
   ],
   "source": [
    "from PIL import Image\n",
    "import numpy as np\n",
    "import cv2\n",
    "\n",
    "face_cascade = cv2.CascadeClassifier('C:\\Users\\Uponika\\Downloads\\opencv\\sources\\data\\haarcascades\\haarcascade_frontalface_default.xml')\n",
    "#eye_cascade = cv2.CascadeClassifier('C:\\Users\\Uponika\\Downloads\\opencv\\sources\\data\\haarcascade\\shaarcascade_eye.xml')\n",
    "\n",
    "modelImg = cv2.imread('model.jpg')\n",
    "clientImg = cv2.imread('bindu1.jpg')\n",
    "grayModel = cv2.cvtColor(modelImg, cv2.COLOR_BGR2GRAY)\n",
    "grayClient = cv2.cvtColor(clientImg, cv2.COLOR_BGR2GRAY)\n",
    "facesModel = face_cascade.detectMultiScale(grayModel, 1.3, 5)\n",
    "facesClient = face_cascade.detectMultiScale(grayClient, 1.3, 5)\n",
    "\n",
    "for (xM,yM,wM,hM) in facesModel:\n",
    "    modelImg= cv2.rectangle(modelImg,(xM,yM),(xM+wM,yM+hM),(0,100,100,0.2),0)\n",
    "    #img2 = cv2.rectangle(img2,(x2,y2),(x2+w2,y2+h2),(255,0,0),2)\n",
    "    print(xM,yM,wM,hM)\n",
    "    cv2.imshow('model',modelImg)\n",
    "    \n",
    "for (xC,yC,wC,hC) in facesClient:\n",
    "    #img1 = cv2.rectangle(img1,(x1,y1),(x1+w1,y1+h1),(255,0,0),2)\n",
    "    #\n",
    "    clientImg= cv2.rectangle(clientImg,(xC,yC),(xC+wC,yC+hC),(0,100,100,0.2),0)\n",
    "    print(xC,yC,wC,hC)\n",
    "    clientFace = clientImg[yC: yC+hC, xC: xC + wC]\n",
    "cv2.imshow('client', clientFace)\n",
    "clientFace= cv2.resize(clientFace,(wM, hM))\n",
    "cv2.imshow('client', clientFace)\n",
    "\n",
    "print(clientFace.size)\n",
    "modelImg[yM: yM+hM, xM: xM + wM]= clientFace\n",
    "cv2.imshow('ModelUpdated', modelImg)\n",
    "\n",
    "cv2.waitKey(0)\n",
    "cv2.destroyAllWindows()"
   ]
  },
  {
   "cell_type": "code",
   "execution_count": null,
   "metadata": {
    "collapsed": true
   },
   "outputs": [],
   "source": []
  },
  {
   "cell_type": "code",
   "execution_count": null,
   "metadata": {
    "collapsed": true
   },
   "outputs": [],
   "source": []
  },
  {
   "cell_type": "code",
   "execution_count": null,
   "metadata": {
    "collapsed": true
   },
   "outputs": [],
   "source": []
  }
 ],
 "metadata": {
  "kernelspec": {
   "display_name": "Python 2",
   "language": "python",
   "name": "python2"
  },
  "language_info": {
   "codemirror_mode": {
    "name": "ipython",
    "version": 2
   },
   "file_extension": ".py",
   "mimetype": "text/x-python",
   "name": "python",
   "nbconvert_exporter": "python",
   "pygments_lexer": "ipython2",
   "version": "2.7.14"
  }
 },
 "nbformat": 4,
 "nbformat_minor": 2
}
